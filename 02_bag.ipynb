{
 "cells": [
  {
   "cell_type": "markdown",
   "metadata": {},
   "source": [
    "<img src=\"images/dask_horizontal.svg\" align=\"right\" width=\"30%\">"
   ]
  },
  {
   "cell_type": "markdown",
   "metadata": {},
   "source": [
    "# Bag: Parallel Lists for semi-structured data"
   ]
  },
  {
   "cell_type": "markdown",
   "metadata": {},
   "source": [
    "Dask-bag excels in processing data that can be represented as a sequence of arbitrary inputs. We'll refer to this as \"messy\" data, because it can contain complex nested structures, missing fields, mixtures of data types, etc. The *functional* programming style fits very nicely with standard Python iteration, such as can be found in the `itertools` module.\n",
    "\n",
    "Messy data is often encountered at the beginning of data processing pipelines when large volumes of raw data are first consumed. The initial set of data might be JSON, CSV, XML, or any other format that does not enforce strict structure and datatypes.\n",
    "For this reason, the initial data massaging and processing is often done with Python `list`s, `dict`s, and `set`s.\n",
    "\n",
    "These core data structures are optimized for general-purpose storage and processing.  Adding streaming computation with iterators/generator expressions or libraries like `itertools` or [`toolz`](https://toolz.readthedocs.io/en/latest/) let us process large volumes in a small space.  If we combine this with parallel processing then we can churn through a fair amount of data.\n",
    "\n",
    "Dask.bag is a high level Dask collection to automate common workloads of this form.  In a nutshell\n",
    "\n",
    "    dask.bag = map, filter, toolz + parallel execution\n",
    "    \n",
    "**Related Documentation**\n",
    "\n",
    "* [Bag documentation](https://docs.dask.org/en/latest/bag.html)\n",
    "* [Bag screencast](https://youtu.be/-qIiJ1XtSv0)\n",
    "* [Bag API](https://docs.dask.org/en/latest/bag-api.html)\n",
    "* [Bag examples](https://examples.dask.org/bag.html)"
   ]
  },
  {
   "cell_type": "markdown",
   "metadata": {},
   "source": [
    "## Create data"
   ]
  },
  {
   "cell_type": "code",
   "execution_count": 1,
   "metadata": {
    "execution": {
     "iopub.execute_input": "2020-12-01T08:33:46.186373Z",
     "iopub.status.busy": "2020-12-01T08:33:46.185836Z",
     "iopub.status.idle": "2020-12-01T08:33:46.649513Z",
     "shell.execute_reply": "2020-12-01T08:33:46.648907Z"
    }
   },
   "outputs": [],
   "source": [
    "%run prep.py -d accounts"
   ]
  },
  {
   "cell_type": "markdown",
   "metadata": {},
   "source": [
    "## Setup"
   ]
  },
  {
   "cell_type": "markdown",
   "metadata": {},
   "source": [
    "Again, we'll use the distributed scheduler. Schedulers will be explained in depth [later](05_distributed.ipynb)."
   ]
  },
  {
   "cell_type": "code",
   "execution_count": 2,
   "metadata": {
    "execution": {
     "iopub.execute_input": "2020-12-01T08:33:46.653520Z",
     "iopub.status.busy": "2020-12-01T08:33:46.652582Z",
     "iopub.status.idle": "2020-12-01T08:33:48.193696Z",
     "shell.execute_reply": "2020-12-01T08:33:48.193221Z"
    }
   },
   "outputs": [],
   "source": [
    "from dask.distributed import Client\n",
    "\n",
    "client = Client(n_workers=4)"
   ]
  },
  {
   "cell_type": "markdown",
   "metadata": {},
   "source": [
    "## Creation"
   ]
  },
  {
   "cell_type": "markdown",
   "metadata": {},
   "source": [
    "You can create a `Bag` from a Python sequence, from files, from data on S3, etc.\n",
    "We demonstrate using `.take()` to show elements of the data. (Doing `.take(1)` results in a tuple with one element)\n",
    "\n",
    "Note that the data are partitioned into blocks, and there are many items per block. In the first example, the two partitions contain five elements each, and in the following two, each file is partitioned into one or more bytes blocks."
   ]
  },
  {
   "cell_type": "code",
   "execution_count": 3,
   "metadata": {
    "execution": {
     "iopub.execute_input": "2020-12-01T08:33:48.198366Z",
     "iopub.status.busy": "2020-12-01T08:33:48.197894Z",
     "iopub.status.idle": "2020-12-01T08:33:48.237265Z",
     "shell.execute_reply": "2020-12-01T08:33:48.236774Z"
    }
   },
   "outputs": [
    {
     "data": {
      "text/plain": [
       "(1, 2, 3)"
      ]
     },
     "execution_count": 1,
     "metadata": {},
     "output_type": "execute_result"
    }
   ],
   "source": [
    "# each element is an integer\n",
    "import dask.bag as db\n",
    "b = db.from_sequence([1, 2, 3, 4, 5, 6, 7, 8, 9, 10], npartitions=2)\n",
    "b.take(3)"
   ]
  },
  {
   "cell_type": "code",
   "execution_count": 4,
   "metadata": {
    "execution": {
     "iopub.execute_input": "2020-12-01T08:33:48.241268Z",
     "iopub.status.busy": "2020-12-01T08:33:48.240784Z",
     "iopub.status.idle": "2020-12-01T08:33:48.265034Z",
     "shell.execute_reply": "2020-12-01T08:33:48.264521Z"
    }
   },
   "outputs": [
    {
     "data": {
      "text/plain": [
       "('{\"id\": 0, \"name\": \"Ursula\", \"transactions\": [{\"transaction-id\": 292, \"amount\": 571}, {\"transaction-id\": 299, \"amount\": 611}, {\"transaction-id\": 428, \"amount\": 635}, {\"transaction-id\": 1025, \"amount\": 683}, {\"transaction-id\": 1028, \"amount\": 565}, {\"transaction-id\": 1291, \"amount\": 631}, {\"transaction-id\": 1312, \"amount\": 562}, {\"transaction-id\": 1385, \"amount\": 574}, {\"transaction-id\": 1459, \"amount\": 541}, {\"transaction-id\": 1683, \"amount\": 610}, {\"transaction-id\": 1905, \"amount\": 638}, {\"transaction-id\": 3519, \"amount\": 593}, {\"transaction-id\": 3802, \"amount\": 532}, {\"transaction-id\": 3916, \"amount\": 535}, {\"transaction-id\": 5042, \"amount\": 559}, {\"transaction-id\": 5284, \"amount\": 490}, {\"transaction-id\": 5393, \"amount\": 603}, {\"transaction-id\": 5594, \"amount\": 582}, {\"transaction-id\": 6145, \"amount\": 463}, {\"transaction-id\": 6658, \"amount\": 593}, {\"transaction-id\": 7215, \"amount\": 564}, {\"transaction-id\": 7433, \"amount\": 542}, {\"transaction-id\": 7891, \"amount\": 634}, {\"transaction-id\": 8303, \"amount\": 511}, {\"transaction-id\": 8328, \"amount\": 542}, {\"transaction-id\": 8349, \"amount\": 488}, {\"transaction-id\": 8630, \"amount\": 611}, {\"transaction-id\": 8792, \"amount\": 532}, {\"transaction-id\": 8883, \"amount\": 560}, {\"transaction-id\": 9182, \"amount\": 575}, {\"transaction-id\": 9187, \"amount\": 560}, {\"transaction-id\": 9281, \"amount\": 572}, {\"transaction-id\": 9373, \"amount\": 609}, {\"transaction-id\": 9663, \"amount\": 580}, {\"transaction-id\": 9827, \"amount\": 567}, {\"transaction-id\": 9834, \"amount\": 526}, {\"transaction-id\": 9885, \"amount\": 549}, {\"transaction-id\": 9976, \"amount\": 596}]}\\n',)"
      ]
     },
     "execution_count": 1,
     "metadata": {},
     "output_type": "execute_result"
    }
   ],
   "source": [
    "# each element is a text file, where each line is a JSON object\n",
    "# note that the compression is handled automatically\n",
    "import os\n",
    "b = db.read_text(os.path.join('data', 'accounts.*.json.gz'))\n",
    "b.take(1)"
   ]
  },
  {
   "cell_type": "code",
   "execution_count": 5,
   "metadata": {
    "execution": {
     "iopub.execute_input": "2020-12-01T08:33:48.268258Z",
     "iopub.status.busy": "2020-12-01T08:33:48.267782Z",
     "iopub.status.idle": "2020-12-01T08:33:48.272271Z",
     "shell.execute_reply": "2020-12-01T08:33:48.271882Z"
    }
   },
   "outputs": [
    {
     "data": {
      "text/plain": [
       "'s3://dask-data/nyc-taxi/2015/yellow_tripdata_2015-01.csv'"
      ]
     },
     "execution_count": 1,
     "metadata": {},
     "output_type": "execute_result"
    }
   ],
   "source": [
    "# Edit sources.py to configure source locations\n",
    "import sources\n",
    "sources.bag_url"
   ]
  },
  {
   "cell_type": "code",
   "execution_count": 6,
   "metadata": {
    "execution": {
     "iopub.execute_input": "2020-12-01T08:33:48.275186Z",
     "iopub.status.busy": "2020-12-01T08:33:48.274688Z",
     "iopub.status.idle": "2020-12-01T08:33:49.068350Z",
     "shell.execute_reply": "2020-12-01T08:33:49.068720Z"
    }
   },
   "outputs": [
    {
     "data": {
      "text/plain": [
       "('VendorID,tpep_pickup_datetime,tpep_dropoff_datetime,passenger_count,trip_distance,pickup_longitude,pickup_latitude,RateCodeID,store_and_fwd_flag,dropoff_longitude,dropoff_latitude,payment_type,fare_amount,extra,mta_tax,tip_amount,tolls_amount,improvement_surcharge,total_amount\\n',)"
      ]
     },
     "execution_count": 1,
     "metadata": {},
     "output_type": "execute_result"
    }
   ],
   "source": [
    "# Requires `s3fs` library\n",
    "# each partition is a remote CSV text file\n",
    "b = db.read_text(sources.bag_url,\n",
    "                 storage_options={'anon': True})\n",
    "b.take(1)"
   ]
  },
  {
   "cell_type": "markdown",
   "metadata": {},
   "source": [
    "## Manipulation"
   ]
  },
  {
   "cell_type": "markdown",
   "metadata": {},
   "source": [
    "`Bag` objects hold the standard functional API found in projects like the Python standard library, `toolz`, or `pyspark`, including `map`, `filter`, `groupby`, etc..\n",
    "\n",
    "Operations on `Bag` objects create new bags.  Call the `.compute()` method to trigger execution, as we saw for `Delayed` objects.  "
   ]
  },
  {
   "cell_type": "code",
   "execution_count": 7,
   "metadata": {
    "execution": {
     "iopub.execute_input": "2020-12-01T08:33:49.074061Z",
     "iopub.status.busy": "2020-12-01T08:33:49.073580Z",
     "iopub.status.idle": "2020-12-01T08:33:49.078730Z",
     "shell.execute_reply": "2020-12-01T08:33:49.077896Z"
    }
   },
   "outputs": [
    {
     "data": {
      "text/plain": [
       "dask.bag<lambda, npartitions=10>"
      ]
     },
     "execution_count": 1,
     "metadata": {},
     "output_type": "execute_result"
    }
   ],
   "source": [
    "def is_even(n):\n",
    "    return n % 2 == 0\n",
    "\n",
    "b = db.from_sequence([1, 2, 3, 4, 5, 6, 7, 8, 9, 10])\n",
    "c = b.filter(is_even).map(lambda x: x ** 2)\n",
    "c"
   ]
  },
  {
   "cell_type": "code",
   "execution_count": 8,
   "metadata": {
    "execution": {
     "iopub.execute_input": "2020-12-01T08:33:49.080581Z",
     "iopub.status.busy": "2020-12-01T08:33:49.080173Z",
     "iopub.status.idle": "2020-12-01T08:33:49.144139Z",
     "shell.execute_reply": "2020-12-01T08:33:49.143718Z"
    }
   },
   "outputs": [
    {
     "data": {
      "text/plain": [
       "[4, 16, 36, 64, 100]"
      ]
     },
     "execution_count": 1,
     "metadata": {},
     "output_type": "execute_result"
    }
   ],
   "source": [
    "# blocking form: wait for completion (which is very fast in this case)\n",
    "c.compute()"
   ]
  },
  {
   "cell_type": "markdown",
   "metadata": {},
   "source": [
    "### Example: Accounts JSON data"
   ]
  },
  {
   "cell_type": "markdown",
   "metadata": {},
   "source": [
    "We've created a fake dataset of gzipped JSON data in your data directory.  This is like the example used in the `DataFrame` example we will see later, except that it has bundled up all of the entires for each individual `id` into a single record.  This is similar to data that you might collect off of a document store database or a web API.\n",
    "\n",
    "Each line is a JSON encoded dictionary with the following keys\n",
    "\n",
    "*  id: Unique identifier of the customer\n",
    "*  name: Name of the customer\n",
    "*  transactions: List of `transaction-id`, `amount` pairs, one for each transaction for the customer in that file"
   ]
  },
  {
   "cell_type": "code",
   "execution_count": 9,
   "metadata": {
    "execution": {
     "iopub.execute_input": "2020-12-01T08:33:49.147788Z",
     "iopub.status.busy": "2020-12-01T08:33:49.146983Z",
     "iopub.status.idle": "2020-12-01T08:33:49.172355Z",
     "shell.execute_reply": "2020-12-01T08:33:49.171889Z"
    }
   },
   "outputs": [
    {
     "data": {
      "text/plain": [
       "('{\"id\": 0, \"name\": \"Ursula\", \"transactions\": [{\"transaction-id\": 292, \"amount\": 571}, {\"transaction-id\": 299, \"amount\": 611}, {\"transaction-id\": 428, \"amount\": 635}, {\"transaction-id\": 1025, \"amount\": 683}, {\"transaction-id\": 1028, \"amount\": 565}, {\"transaction-id\": 1291, \"amount\": 631}, {\"transaction-id\": 1312, \"amount\": 562}, {\"transaction-id\": 1385, \"amount\": 574}, {\"transaction-id\": 1459, \"amount\": 541}, {\"transaction-id\": 1683, \"amount\": 610}, {\"transaction-id\": 1905, \"amount\": 638}, {\"transaction-id\": 3519, \"amount\": 593}, {\"transaction-id\": 3802, \"amount\": 532}, {\"transaction-id\": 3916, \"amount\": 535}, {\"transaction-id\": 5042, \"amount\": 559}, {\"transaction-id\": 5284, \"amount\": 490}, {\"transaction-id\": 5393, \"amount\": 603}, {\"transaction-id\": 5594, \"amount\": 582}, {\"transaction-id\": 6145, \"amount\": 463}, {\"transaction-id\": 6658, \"amount\": 593}, {\"transaction-id\": 7215, \"amount\": 564}, {\"transaction-id\": 7433, \"amount\": 542}, {\"transaction-id\": 7891, \"amount\": 634}, {\"transaction-id\": 8303, \"amount\": 511}, {\"transaction-id\": 8328, \"amount\": 542}, {\"transaction-id\": 8349, \"amount\": 488}, {\"transaction-id\": 8630, \"amount\": 611}, {\"transaction-id\": 8792, \"amount\": 532}, {\"transaction-id\": 8883, \"amount\": 560}, {\"transaction-id\": 9182, \"amount\": 575}, {\"transaction-id\": 9187, \"amount\": 560}, {\"transaction-id\": 9281, \"amount\": 572}, {\"transaction-id\": 9373, \"amount\": 609}, {\"transaction-id\": 9663, \"amount\": 580}, {\"transaction-id\": 9827, \"amount\": 567}, {\"transaction-id\": 9834, \"amount\": 526}, {\"transaction-id\": 9885, \"amount\": 549}, {\"transaction-id\": 9976, \"amount\": 596}]}\\n',\n",
       " '{\"id\": 1, \"name\": \"George\", \"transactions\": [{\"transaction-id\": 240, \"amount\": 474}, {\"transaction-id\": 253, \"amount\": 374}, {\"transaction-id\": 803, \"amount\": -228}, {\"transaction-id\": 903, \"amount\": 105}, {\"transaction-id\": 1177, \"amount\": 323}, {\"transaction-id\": 1325, \"amount\": 9}, {\"transaction-id\": 1410, \"amount\": 251}, {\"transaction-id\": 1544, \"amount\": -289}, {\"transaction-id\": 1813, \"amount\": -56}, {\"transaction-id\": 1843, \"amount\": 151}, {\"transaction-id\": 1848, \"amount\": 141}, {\"transaction-id\": 1863, \"amount\": -424}, {\"transaction-id\": 2119, \"amount\": 58}, {\"transaction-id\": 2165, \"amount\": 338}, {\"transaction-id\": 2647, \"amount\": 558}, {\"transaction-id\": 2661, \"amount\": 821}, {\"transaction-id\": 3131, \"amount\": 923}, {\"transaction-id\": 3572, \"amount\": 862}, {\"transaction-id\": 3578, \"amount\": 26}, {\"transaction-id\": 3614, \"amount\": -22}, {\"transaction-id\": 3804, \"amount\": 289}, {\"transaction-id\": 3848, \"amount\": -23}, {\"transaction-id\": 3850, \"amount\": 429}, {\"transaction-id\": 4096, \"amount\": 310}, {\"transaction-id\": 4113, \"amount\": 777}, {\"transaction-id\": 4121, \"amount\": 165}, {\"transaction-id\": 4133, \"amount\": 531}, {\"transaction-id\": 4305, \"amount\": 183}, {\"transaction-id\": 4419, \"amount\": 79}, {\"transaction-id\": 4531, \"amount\": -46}, {\"transaction-id\": 4614, \"amount\": 398}, {\"transaction-id\": 4644, \"amount\": 159}, {\"transaction-id\": 4658, \"amount\": -52}, {\"transaction-id\": 4775, \"amount\": 783}, {\"transaction-id\": 4965, \"amount\": -129}, {\"transaction-id\": 5270, \"amount\": 437}, {\"transaction-id\": 5400, \"amount\": 496}, {\"transaction-id\": 5597, \"amount\": 450}, {\"transaction-id\": 5615, \"amount\": 616}, {\"transaction-id\": 5680, \"amount\": 300}, {\"transaction-id\": 5860, \"amount\": 280}, {\"transaction-id\": 5887, \"amount\": -57}, {\"transaction-id\": 6016, \"amount\": -55}, {\"transaction-id\": 6205, \"amount\": 294}, {\"transaction-id\": 6306, \"amount\": 653}, {\"transaction-id\": 6358, \"amount\": 575}, {\"transaction-id\": 6361, \"amount\": -356}, {\"transaction-id\": 6492, \"amount\": 469}, {\"transaction-id\": 6534, \"amount\": 381}, {\"transaction-id\": 6539, \"amount\": 370}, {\"transaction-id\": 6620, \"amount\": 179}, {\"transaction-id\": 6621, \"amount\": -57}, {\"transaction-id\": 6758, \"amount\": 112}, {\"transaction-id\": 7061, \"amount\": 507}, {\"transaction-id\": 7124, \"amount\": 140}, {\"transaction-id\": 7128, \"amount\": 243}, {\"transaction-id\": 7402, \"amount\": 447}, {\"transaction-id\": 7715, \"amount\": 275}, {\"transaction-id\": 7719, \"amount\": 428}, {\"transaction-id\": 7897, \"amount\": -74}, {\"transaction-id\": 7957, \"amount\": 457}, {\"transaction-id\": 7996, \"amount\": 442}, {\"transaction-id\": 8029, \"amount\": -135}, {\"transaction-id\": 8119, \"amount\": 271}, {\"transaction-id\": 8515, \"amount\": 325}, {\"transaction-id\": 8662, \"amount\": -92}, {\"transaction-id\": 8685, \"amount\": -162}, {\"transaction-id\": 8705, \"amount\": -31}, {\"transaction-id\": 8908, \"amount\": 876}, {\"transaction-id\": 8925, \"amount\": 346}, {\"transaction-id\": 9086, \"amount\": 413}, {\"transaction-id\": 9186, \"amount\": 81}, {\"transaction-id\": 9219, \"amount\": 262}, {\"transaction-id\": 9311, \"amount\": 52}, {\"transaction-id\": 9316, \"amount\": 448}, {\"transaction-id\": 9347, \"amount\": -178}, {\"transaction-id\": 9415, \"amount\": 461}, {\"transaction-id\": 9441, \"amount\": 145}, {\"transaction-id\": 9461, \"amount\": 219}, {\"transaction-id\": 9776, \"amount\": 647}, {\"transaction-id\": 9805, \"amount\": -77}]}\\n',\n",
       " '{\"id\": 2, \"name\": \"Wendy\", \"transactions\": [{\"transaction-id\": 1425, \"amount\": 1518}, {\"transaction-id\": 3508, \"amount\": 1581}, {\"transaction-id\": 3847, \"amount\": 1433}, {\"transaction-id\": 4003, \"amount\": 1547}, {\"transaction-id\": 5376, \"amount\": 1528}, {\"transaction-id\": 5949, \"amount\": 1484}, {\"transaction-id\": 6285, \"amount\": 1576}, {\"transaction-id\": 7021, \"amount\": 1566}, {\"transaction-id\": 7444, \"amount\": 1529}, {\"transaction-id\": 9836, \"amount\": 1457}]}\\n')"
      ]
     },
     "execution_count": 1,
     "metadata": {},
     "output_type": "execute_result"
    }
   ],
   "source": [
    "filename = os.path.join('data', 'accounts.*.json.gz')\n",
    "lines = db.read_text(filename)\n",
    "lines.take(3)"
   ]
  },
  {
   "cell_type": "markdown",
   "metadata": {},
   "source": [
    "Our data comes out of the file as lines of text. Notice that file decompression happened automatically. We can make this data look more reasonable by mapping the `json.loads` function onto our bag."
   ]
  },
  {
   "cell_type": "code",
   "execution_count": 10,
   "metadata": {
    "execution": {
     "iopub.execute_input": "2020-12-01T08:33:49.175991Z",
     "iopub.status.busy": "2020-12-01T08:33:49.175531Z",
     "iopub.status.idle": "2020-12-01T08:33:49.199725Z",
     "shell.execute_reply": "2020-12-01T08:33:49.199336Z"
    }
   },
   "outputs": [
    {
     "data": {
      "text/plain": [
       "({'id': 0,\n",
       "  'name': 'Ursula',\n",
       "  'transactions': [{'transaction-id': 292, 'amount': 571},\n",
       "   {'transaction-id': 299, 'amount': 611},\n",
       "   {'transaction-id': 428, 'amount': 635},\n",
       "   {'transaction-id': 1025, 'amount': 683},\n",
       "   {'transaction-id': 1028, 'amount': 565},\n",
       "   {'transaction-id': 1291, 'amount': 631},\n",
       "   {'transaction-id': 1312, 'amount': 562},\n",
       "   {'transaction-id': 1385, 'amount': 574},\n",
       "   {'transaction-id': 1459, 'amount': 541},\n",
       "   {'transaction-id': 1683, 'amount': 610},\n",
       "   {'transaction-id': 1905, 'amount': 638},\n",
       "   {'transaction-id': 3519, 'amount': 593},\n",
       "   {'transaction-id': 3802, 'amount': 532},\n",
       "   {'transaction-id': 3916, 'amount': 535},\n",
       "   {'transaction-id': 5042, 'amount': 559},\n",
       "   {'transaction-id': 5284, 'amount': 490},\n",
       "   {'transaction-id': 5393, 'amount': 603},\n",
       "   {'transaction-id': 5594, 'amount': 582},\n",
       "   {'transaction-id': 6145, 'amount': 463},\n",
       "   {'transaction-id': 6658, 'amount': 593},\n",
       "   {'transaction-id': 7215, 'amount': 564},\n",
       "   {'transaction-id': 7433, 'amount': 542},\n",
       "   {'transaction-id': 7891, 'amount': 634},\n",
       "   {'transaction-id': 8303, 'amount': 511},\n",
       "   {'transaction-id': 8328, 'amount': 542},\n",
       "   {'transaction-id': 8349, 'amount': 488},\n",
       "   {'transaction-id': 8630, 'amount': 611},\n",
       "   {'transaction-id': 8792, 'amount': 532},\n",
       "   {'transaction-id': 8883, 'amount': 560},\n",
       "   {'transaction-id': 9182, 'amount': 575},\n",
       "   {'transaction-id': 9187, 'amount': 560},\n",
       "   {'transaction-id': 9281, 'amount': 572},\n",
       "   {'transaction-id': 9373, 'amount': 609},\n",
       "   {'transaction-id': 9663, 'amount': 580},\n",
       "   {'transaction-id': 9827, 'amount': 567},\n",
       "   {'transaction-id': 9834, 'amount': 526},\n",
       "   {'transaction-id': 9885, 'amount': 549},\n",
       "   {'transaction-id': 9976, 'amount': 596}]},\n",
       " {'id': 1,\n",
       "  'name': 'George',\n",
       "  'transactions': [{'transaction-id': 240, 'amount': 474},\n",
       "   {'transaction-id': 253, 'amount': 374},\n",
       "   {'transaction-id': 803, 'amount': -228},\n",
       "   {'transaction-id': 903, 'amount': 105},\n",
       "   {'transaction-id': 1177, 'amount': 323},\n",
       "   {'transaction-id': 1325, 'amount': 9},\n",
       "   {'transaction-id': 1410, 'amount': 251},\n",
       "   {'transaction-id': 1544, 'amount': -289},\n",
       "   {'transaction-id': 1813, 'amount': -56},\n",
       "   {'transaction-id': 1843, 'amount': 151},\n",
       "   {'transaction-id': 1848, 'amount': 141},\n",
       "   {'transaction-id': 1863, 'amount': -424},\n",
       "   {'transaction-id': 2119, 'amount': 58},\n",
       "   {'transaction-id': 2165, 'amount': 338},\n",
       "   {'transaction-id': 2647, 'amount': 558},\n",
       "   {'transaction-id': 2661, 'amount': 821},\n",
       "   {'transaction-id': 3131, 'amount': 923},\n",
       "   {'transaction-id': 3572, 'amount': 862},\n",
       "   {'transaction-id': 3578, 'amount': 26},\n",
       "   {'transaction-id': 3614, 'amount': -22},\n",
       "   {'transaction-id': 3804, 'amount': 289},\n",
       "   {'transaction-id': 3848, 'amount': -23},\n",
       "   {'transaction-id': 3850, 'amount': 429},\n",
       "   {'transaction-id': 4096, 'amount': 310},\n",
       "   {'transaction-id': 4113, 'amount': 777},\n",
       "   {'transaction-id': 4121, 'amount': 165},\n",
       "   {'transaction-id': 4133, 'amount': 531},\n",
       "   {'transaction-id': 4305, 'amount': 183},\n",
       "   {'transaction-id': 4419, 'amount': 79},\n",
       "   {'transaction-id': 4531, 'amount': -46},\n",
       "   {'transaction-id': 4614, 'amount': 398},\n",
       "   {'transaction-id': 4644, 'amount': 159},\n",
       "   {'transaction-id': 4658, 'amount': -52},\n",
       "   {'transaction-id': 4775, 'amount': 783},\n",
       "   {'transaction-id': 4965, 'amount': -129},\n",
       "   {'transaction-id': 5270, 'amount': 437},\n",
       "   {'transaction-id': 5400, 'amount': 496},\n",
       "   {'transaction-id': 5597, 'amount': 450},\n",
       "   {'transaction-id': 5615, 'amount': 616},\n",
       "   {'transaction-id': 5680, 'amount': 300},\n",
       "   {'transaction-id': 5860, 'amount': 280},\n",
       "   {'transaction-id': 5887, 'amount': -57},\n",
       "   {'transaction-id': 6016, 'amount': -55},\n",
       "   {'transaction-id': 6205, 'amount': 294},\n",
       "   {'transaction-id': 6306, 'amount': 653},\n",
       "   {'transaction-id': 6358, 'amount': 575},\n",
       "   {'transaction-id': 6361, 'amount': -356},\n",
       "   {'transaction-id': 6492, 'amount': 469},\n",
       "   {'transaction-id': 6534, 'amount': 381},\n",
       "   {'transaction-id': 6539, 'amount': 370},\n",
       "   {'transaction-id': 6620, 'amount': 179},\n",
       "   {'transaction-id': 6621, 'amount': -57},\n",
       "   {'transaction-id': 6758, 'amount': 112},\n",
       "   {'transaction-id': 7061, 'amount': 507},\n",
       "   {'transaction-id': 7124, 'amount': 140},\n",
       "   {'transaction-id': 7128, 'amount': 243},\n",
       "   {'transaction-id': 7402, 'amount': 447},\n",
       "   {'transaction-id': 7715, 'amount': 275},\n",
       "   {'transaction-id': 7719, 'amount': 428},\n",
       "   {'transaction-id': 7897, 'amount': -74},\n",
       "   {'transaction-id': 7957, 'amount': 457},\n",
       "   {'transaction-id': 7996, 'amount': 442},\n",
       "   {'transaction-id': 8029, 'amount': -135},\n",
       "   {'transaction-id': 8119, 'amount': 271},\n",
       "   {'transaction-id': 8515, 'amount': 325},\n",
       "   {'transaction-id': 8662, 'amount': -92},\n",
       "   {'transaction-id': 8685, 'amount': -162},\n",
       "   {'transaction-id': 8705, 'amount': -31},\n",
       "   {'transaction-id': 8908, 'amount': 876},\n",
       "   {'transaction-id': 8925, 'amount': 346},\n",
       "   {'transaction-id': 9086, 'amount': 413},\n",
       "   {'transaction-id': 9186, 'amount': 81},\n",
       "   {'transaction-id': 9219, 'amount': 262},\n",
       "   {'transaction-id': 9311, 'amount': 52},\n",
       "   {'transaction-id': 9316, 'amount': 448},\n",
       "   {'transaction-id': 9347, 'amount': -178},\n",
       "   {'transaction-id': 9415, 'amount': 461},\n",
       "   {'transaction-id': 9441, 'amount': 145},\n",
       "   {'transaction-id': 9461, 'amount': 219},\n",
       "   {'transaction-id': 9776, 'amount': 647},\n",
       "   {'transaction-id': 9805, 'amount': -77}]},\n",
       " {'id': 2,\n",
       "  'name': 'Wendy',\n",
       "  'transactions': [{'transaction-id': 1425, 'amount': 1518},\n",
       "   {'transaction-id': 3508, 'amount': 1581},\n",
       "   {'transaction-id': 3847, 'amount': 1433},\n",
       "   {'transaction-id': 4003, 'amount': 1547},\n",
       "   {'transaction-id': 5376, 'amount': 1528},\n",
       "   {'transaction-id': 5949, 'amount': 1484},\n",
       "   {'transaction-id': 6285, 'amount': 1576},\n",
       "   {'transaction-id': 7021, 'amount': 1566},\n",
       "   {'transaction-id': 7444, 'amount': 1529},\n",
       "   {'transaction-id': 9836, 'amount': 1457}]})"
      ]
     },
     "execution_count": 1,
     "metadata": {},
     "output_type": "execute_result"
    }
   ],
   "source": [
    "import json\n",
    "js = lines.map(json.loads)\n",
    "# take: inspect first few elements\n",
    "js.take(3)"
   ]
  },
  {
   "cell_type": "markdown",
   "metadata": {},
   "source": [
    "### Basic Queries"
   ]
  },
  {
   "cell_type": "markdown",
   "metadata": {},
   "source": [
    "Once we parse our JSON data into proper Python objects (`dict`s, `list`s, etc.) we can perform more interesting queries by creating small Python functions to run on our data."
   ]
  },
  {
   "cell_type": "code",
   "execution_count": 11,
   "metadata": {
    "execution": {
     "iopub.execute_input": "2020-12-01T08:33:49.204551Z",
     "iopub.status.busy": "2020-12-01T08:33:49.203906Z",
     "iopub.status.idle": "2020-12-01T08:33:49.225598Z",
     "shell.execute_reply": "2020-12-01T08:33:49.225022Z"
    }
   },
   "outputs": [
    {
     "data": {
      "text/plain": [
       "({'id': 11,\n",
       "  'name': 'Alice',\n",
       "  'transactions': [{'transaction-id': 28, 'amount': 1620},\n",
       "   {'transaction-id': 104, 'amount': 1754},\n",
       "   {'transaction-id': 244, 'amount': 1696},\n",
       "   {'transaction-id': 3226, 'amount': 1730},\n",
       "   {'transaction-id': 3309, 'amount': 1528},\n",
       "   {'transaction-id': 5766, 'amount': 1592},\n",
       "   {'transaction-id': 5779, 'amount': 1390},\n",
       "   {'transaction-id': 5873, 'amount': 1708},\n",
       "   {'transaction-id': 6580, 'amount': 1594},\n",
       "   {'transaction-id': 6992, 'amount': 1504},\n",
       "   {'transaction-id': 7666, 'amount': 1548},\n",
       "   {'transaction-id': 8080, 'amount': 1509},\n",
       "   {'transaction-id': 8336, 'amount': 1707},\n",
       "   {'transaction-id': 8501, 'amount': 1542},\n",
       "   {'transaction-id': 8811, 'amount': 1778},\n",
       "   {'transaction-id': 9543, 'amount': 1730}]},\n",
       " {'id': 26,\n",
       "  'name': 'Alice',\n",
       "  'transactions': [{'transaction-id': 368, 'amount': 5758},\n",
       "   {'transaction-id': 1833, 'amount': 5290},\n",
       "   {'transaction-id': 1840, 'amount': 5563},\n",
       "   {'transaction-id': 2582, 'amount': 5604},\n",
       "   {'transaction-id': 3515, 'amount': 5992},\n",
       "   {'transaction-id': 4154, 'amount': 5412},\n",
       "   {'transaction-id': 4231, 'amount': 6032},\n",
       "   {'transaction-id': 4541, 'amount': 5269},\n",
       "   {'transaction-id': 5129, 'amount': 5710},\n",
       "   {'transaction-id': 5164, 'amount': 5556},\n",
       "   {'transaction-id': 5242, 'amount': 5435},\n",
       "   {'transaction-id': 5434, 'amount': 5519},\n",
       "   {'transaction-id': 5578, 'amount': 5724},\n",
       "   {'transaction-id': 6244, 'amount': 5271},\n",
       "   {'transaction-id': 7071, 'amount': 5150},\n",
       "   {'transaction-id': 8600, 'amount': 5540},\n",
       "   {'transaction-id': 9765, 'amount': 5993},\n",
       "   {'transaction-id': 9953, 'amount': 5372}]},\n",
       " {'id': 63,\n",
       "  'name': 'Alice',\n",
       "  'transactions': [{'transaction-id': 2656, 'amount': 924},\n",
       "   {'transaction-id': 2690, 'amount': 887},\n",
       "   {'transaction-id': 3860, 'amount': 1000},\n",
       "   {'transaction-id': 4081, 'amount': 853},\n",
       "   {'transaction-id': 4234, 'amount': 993},\n",
       "   {'transaction-id': 5530, 'amount': 953},\n",
       "   {'transaction-id': 5702, 'amount': 893},\n",
       "   {'transaction-id': 5794, 'amount': 933},\n",
       "   {'transaction-id': 6602, 'amount': 840},\n",
       "   {'transaction-id': 9064, 'amount': 953},\n",
       "   {'transaction-id': 9704, 'amount': 1053}]},\n",
       " {'id': 68,\n",
       "  'name': 'Alice',\n",
       "  'transactions': [{'transaction-id': 263, 'amount': 5474},\n",
       "   {'transaction-id': 360, 'amount': 5709},\n",
       "   {'transaction-id': 447, 'amount': 5568},\n",
       "   {'transaction-id': 985, 'amount': 5566},\n",
       "   {'transaction-id': 1068, 'amount': 5915},\n",
       "   {'transaction-id': 1179, 'amount': 5472},\n",
       "   {'transaction-id': 1671, 'amount': 5759},\n",
       "   {'transaction-id': 1873, 'amount': 6211},\n",
       "   {'transaction-id': 1899, 'amount': 5445},\n",
       "   {'transaction-id': 2018, 'amount': 5799},\n",
       "   {'transaction-id': 3473, 'amount': 6388},\n",
       "   {'transaction-id': 5194, 'amount': 6243},\n",
       "   {'transaction-id': 5320, 'amount': 5474},\n",
       "   {'transaction-id': 6075, 'amount': 5579},\n",
       "   {'transaction-id': 6155, 'amount': 5987},\n",
       "   {'transaction-id': 6308, 'amount': 5223},\n",
       "   {'transaction-id': 7344, 'amount': 5520},\n",
       "   {'transaction-id': 7420, 'amount': 6394},\n",
       "   {'transaction-id': 8129, 'amount': 6304},\n",
       "   {'transaction-id': 8521, 'amount': 5621},\n",
       "   {'transaction-id': 8636, 'amount': 6280},\n",
       "   {'transaction-id': 8936, 'amount': 6148},\n",
       "   {'transaction-id': 9181, 'amount': 6047},\n",
       "   {'transaction-id': 9260, 'amount': 5420},\n",
       "   {'transaction-id': 9314, 'amount': 5524},\n",
       "   {'transaction-id': 9787, 'amount': 5593},\n",
       "   {'transaction-id': 9957, 'amount': 6294}]},\n",
       " {'id': 86,\n",
       "  'name': 'Alice',\n",
       "  'transactions': [{'transaction-id': 851, 'amount': 945},\n",
       "   {'transaction-id': 1111, 'amount': 915},\n",
       "   {'transaction-id': 1114, 'amount': 919},\n",
       "   {'transaction-id': 1153, 'amount': 1108},\n",
       "   {'transaction-id': 1702, 'amount': 916},\n",
       "   {'transaction-id': 1823, 'amount': 973},\n",
       "   {'transaction-id': 1928, 'amount': 899},\n",
       "   {'transaction-id': 2217, 'amount': 898},\n",
       "   {'transaction-id': 2907, 'amount': 1002},\n",
       "   {'transaction-id': 4622, 'amount': 901},\n",
       "   {'transaction-id': 4665, 'amount': 940},\n",
       "   {'transaction-id': 5170, 'amount': 897},\n",
       "   {'transaction-id': 5273, 'amount': 1020},\n",
       "   {'transaction-id': 7123, 'amount': 1027},\n",
       "   {'transaction-id': 7225, 'amount': 998},\n",
       "   {'transaction-id': 7888, 'amount': 1005},\n",
       "   {'transaction-id': 7999, 'amount': 944},\n",
       "   {'transaction-id': 8188, 'amount': 962},\n",
       "   {'transaction-id': 9222, 'amount': 940},\n",
       "   {'transaction-id': 9292, 'amount': 1109},\n",
       "   {'transaction-id': 9873, 'amount': 948}]})"
      ]
     },
     "execution_count": 1,
     "metadata": {},
     "output_type": "execute_result"
    }
   ],
   "source": [
    "# filter: keep only some elements of the sequence\n",
    "js.filter(lambda record: record['name'] == 'Alice').take(5)"
   ]
  },
  {
   "cell_type": "code",
   "execution_count": 12,
   "metadata": {
    "execution": {
     "iopub.execute_input": "2020-12-01T08:33:49.229906Z",
     "iopub.status.busy": "2020-12-01T08:33:49.229190Z",
     "iopub.status.idle": "2020-12-01T08:33:49.247235Z",
     "shell.execute_reply": "2020-12-01T08:33:49.246804Z"
    }
   },
   "outputs": [
    {
     "data": {
      "text/plain": [
       "({'name': 'Alice', 'count': 16},\n",
       " {'name': 'Alice', 'count': 18},\n",
       " {'name': 'Alice', 'count': 11},\n",
       " {'name': 'Alice', 'count': 27},\n",
       " {'name': 'Alice', 'count': 21})"
      ]
     },
     "execution_count": 1,
     "metadata": {},
     "output_type": "execute_result"
    }
   ],
   "source": [
    "def count_transactions(d):\n",
    "    return {'name': d['name'], 'count': len(d['transactions'])}\n",
    "\n",
    "# map: apply a function to each element\n",
    "(js.filter(lambda record: record['name'] == 'Alice')\n",
    "   .map(count_transactions)\n",
    "   .take(5))"
   ]
  },
  {
   "cell_type": "code",
   "execution_count": 13,
   "metadata": {
    "execution": {
     "iopub.execute_input": "2020-12-01T08:33:49.251030Z",
     "iopub.status.busy": "2020-12-01T08:33:49.248920Z",
     "iopub.status.idle": "2020-12-01T08:33:49.268535Z",
     "shell.execute_reply": "2020-12-01T08:33:49.268891Z"
    }
   },
   "outputs": [
    {
     "data": {
      "text/plain": [
       "(16, 18, 11, 27, 21)"
      ]
     },
     "execution_count": 1,
     "metadata": {},
     "output_type": "execute_result"
    }
   ],
   "source": [
    "# pluck: select a field, as from a dictionary, element[field]\n",
    "(js.filter(lambda record: record['name'] == 'Alice')\n",
    "   .map(count_transactions)\n",
    "   .pluck('count')\n",
    "   .take(5))"
   ]
  },
  {
   "cell_type": "code",
   "execution_count": 14,
   "metadata": {
    "execution": {
     "iopub.execute_input": "2020-12-01T08:33:49.277927Z",
     "iopub.status.busy": "2020-12-01T08:33:49.277533Z",
     "iopub.status.idle": "2020-12-01T08:33:49.644218Z",
     "shell.execute_reply": "2020-12-01T08:33:49.643678Z"
    }
   },
   "outputs": [
    {
     "data": {
      "text/plain": [
       "33.158181818181816"
      ]
     },
     "execution_count": 1,
     "metadata": {},
     "output_type": "execute_result"
    }
   ],
   "source": [
    "# Average number of transactions for all of the Alice entries\n",
    "(js.filter(lambda record: record['name'] == 'Alice')\n",
    "   .map(count_transactions)\n",
    "   .pluck('count')\n",
    "   .mean()\n",
    "   .compute())"
   ]
  },
  {
   "cell_type": "markdown",
   "metadata": {},
   "source": [
    "### Use `flatten` to de-nest"
   ]
  },
  {
   "cell_type": "markdown",
   "metadata": {},
   "source": [
    "In the example below we see the use of `.flatten()` to flatten results.  We compute the average amount for all transactions for all Alices."
   ]
  },
  {
   "cell_type": "code",
   "execution_count": 15,
   "metadata": {
    "execution": {
     "iopub.execute_input": "2020-12-01T08:33:49.647466Z",
     "iopub.status.busy": "2020-12-01T08:33:49.646944Z",
     "iopub.status.idle": "2020-12-01T08:33:49.668446Z",
     "shell.execute_reply": "2020-12-01T08:33:49.668854Z"
    }
   },
   "outputs": [
    {
     "data": {
      "text/plain": [
       "([{'transaction-id': 28, 'amount': 1620},\n",
       "  {'transaction-id': 104, 'amount': 1754},\n",
       "  {'transaction-id': 244, 'amount': 1696},\n",
       "  {'transaction-id': 3226, 'amount': 1730},\n",
       "  {'transaction-id': 3309, 'amount': 1528},\n",
       "  {'transaction-id': 5766, 'amount': 1592},\n",
       "  {'transaction-id': 5779, 'amount': 1390},\n",
       "  {'transaction-id': 5873, 'amount': 1708},\n",
       "  {'transaction-id': 6580, 'amount': 1594},\n",
       "  {'transaction-id': 6992, 'amount': 1504},\n",
       "  {'transaction-id': 7666, 'amount': 1548},\n",
       "  {'transaction-id': 8080, 'amount': 1509},\n",
       "  {'transaction-id': 8336, 'amount': 1707},\n",
       "  {'transaction-id': 8501, 'amount': 1542},\n",
       "  {'transaction-id': 8811, 'amount': 1778},\n",
       "  {'transaction-id': 9543, 'amount': 1730}],\n",
       " [{'transaction-id': 368, 'amount': 5758},\n",
       "  {'transaction-id': 1833, 'amount': 5290},\n",
       "  {'transaction-id': 1840, 'amount': 5563},\n",
       "  {'transaction-id': 2582, 'amount': 5604},\n",
       "  {'transaction-id': 3515, 'amount': 5992},\n",
       "  {'transaction-id': 4154, 'amount': 5412},\n",
       "  {'transaction-id': 4231, 'amount': 6032},\n",
       "  {'transaction-id': 4541, 'amount': 5269},\n",
       "  {'transaction-id': 5129, 'amount': 5710},\n",
       "  {'transaction-id': 5164, 'amount': 5556},\n",
       "  {'transaction-id': 5242, 'amount': 5435},\n",
       "  {'transaction-id': 5434, 'amount': 5519},\n",
       "  {'transaction-id': 5578, 'amount': 5724},\n",
       "  {'transaction-id': 6244, 'amount': 5271},\n",
       "  {'transaction-id': 7071, 'amount': 5150},\n",
       "  {'transaction-id': 8600, 'amount': 5540},\n",
       "  {'transaction-id': 9765, 'amount': 5993},\n",
       "  {'transaction-id': 9953, 'amount': 5372}],\n",
       " [{'transaction-id': 2656, 'amount': 924},\n",
       "  {'transaction-id': 2690, 'amount': 887},\n",
       "  {'transaction-id': 3860, 'amount': 1000},\n",
       "  {'transaction-id': 4081, 'amount': 853},\n",
       "  {'transaction-id': 4234, 'amount': 993},\n",
       "  {'transaction-id': 5530, 'amount': 953},\n",
       "  {'transaction-id': 5702, 'amount': 893},\n",
       "  {'transaction-id': 5794, 'amount': 933},\n",
       "  {'transaction-id': 6602, 'amount': 840},\n",
       "  {'transaction-id': 9064, 'amount': 953},\n",
       "  {'transaction-id': 9704, 'amount': 1053}])"
      ]
     },
     "execution_count": 1,
     "metadata": {},
     "output_type": "execute_result"
    }
   ],
   "source": [
    "js.filter(lambda record: record['name'] == 'Alice').pluck('transactions').take(3)"
   ]
  },
  {
   "cell_type": "code",
   "execution_count": 16,
   "metadata": {
    "execution": {
     "iopub.execute_input": "2020-12-01T08:33:49.673554Z",
     "iopub.status.busy": "2020-12-01T08:33:49.673035Z",
     "iopub.status.idle": "2020-12-01T08:33:49.691064Z",
     "shell.execute_reply": "2020-12-01T08:33:49.690441Z"
    }
   },
   "outputs": [
    {
     "data": {
      "text/plain": [
       "({'transaction-id': 28, 'amount': 1620},\n",
       " {'transaction-id': 104, 'amount': 1754},\n",
       " {'transaction-id': 244, 'amount': 1696})"
      ]
     },
     "execution_count": 1,
     "metadata": {},
     "output_type": "execute_result"
    }
   ],
   "source": [
    "(js.filter(lambda record: record['name'] == 'Alice')\n",
    "   .pluck('transactions')\n",
    "   .flatten()\n",
    "   .take(3))"
   ]
  },
  {
   "cell_type": "code",
   "execution_count": 17,
   "metadata": {
    "execution": {
     "iopub.execute_input": "2020-12-01T08:33:49.695474Z",
     "iopub.status.busy": "2020-12-01T08:33:49.695062Z",
     "iopub.status.idle": "2020-12-01T08:33:49.712196Z",
     "shell.execute_reply": "2020-12-01T08:33:49.711727Z"
    }
   },
   "outputs": [
    {
     "data": {
      "text/plain": [
       "(1620, 1754, 1696)"
      ]
     },
     "execution_count": 1,
     "metadata": {},
     "output_type": "execute_result"
    }
   ],
   "source": [
    "(js.filter(lambda record: record['name'] == 'Alice')\n",
    "   .pluck('transactions')\n",
    "   .flatten()\n",
    "   .pluck('amount')\n",
    "   .take(3))"
   ]
  },
  {
   "cell_type": "code",
   "execution_count": 18,
   "metadata": {
    "execution": {
     "iopub.execute_input": "2020-12-01T08:33:49.714873Z",
     "iopub.status.busy": "2020-12-01T08:33:49.714488Z",
     "iopub.status.idle": "2020-12-01T08:33:50.065344Z",
     "shell.execute_reply": "2020-12-01T08:33:50.065678Z"
    }
   },
   "outputs": [
    {
     "data": {
      "text/plain": [
       "995.5927510007128"
      ]
     },
     "execution_count": 1,
     "metadata": {},
     "output_type": "execute_result"
    }
   ],
   "source": [
    "(js.filter(lambda record: record['name'] == 'Alice')\n",
    "   .pluck('transactions')\n",
    "   .flatten()\n",
    "   .pluck('amount')\n",
    "   .mean()\n",
    "   .compute())"
   ]
  },
  {
   "cell_type": "markdown",
   "metadata": {},
   "source": [
    "### Groupby and Foldby"
   ]
  },
  {
   "cell_type": "markdown",
   "metadata": {},
   "source": [
    "Often we want to group data by some function or key.  We can do this either with the `.groupby` method, which is straightforward but forces a full shuffle of the data (expensive) or with the harder-to-use but faster `.foldby` method, which does a streaming combined groupby and reduction.\n",
    "\n",
    "*  `groupby`:  Shuffles data so that all items with the same key are in the same key-value pair\n",
    "*  `foldby`:  Walks through the data accumulating a result per key\n",
    "\n",
    "*Note: the full groupby is particularly bad. In actual workloads you would do well to use `foldby` or switch to `DataFrame`s if possible.*"
   ]
  },
  {
   "cell_type": "markdown",
   "metadata": {},
   "source": [
    "### `groupby`"
   ]
  },
  {
   "cell_type": "markdown",
   "metadata": {},
   "source": [
    "Groupby collects items in your collection so that all items with the same value under some function are collected together into a key-value pair."
   ]
  },
  {
   "cell_type": "code",
   "execution_count": 19,
   "metadata": {
    "execution": {
     "iopub.execute_input": "2020-12-01T08:33:50.073928Z",
     "iopub.status.busy": "2020-12-01T08:33:50.071920Z",
     "iopub.status.idle": "2020-12-01T08:33:50.144444Z",
     "shell.execute_reply": "2020-12-01T08:33:50.145753Z"
    }
   },
   "outputs": [
    {
     "data": {
      "text/plain": [
       "[(7, ['Charlie']), (3, ['Bob', 'Dan']), (5, ['Alice', 'Edith', 'Frank'])]"
      ]
     },
     "execution_count": 1,
     "metadata": {},
     "output_type": "execute_result"
    }
   ],
   "source": [
    "b = db.from_sequence(['Alice', 'Bob', 'Charlie', 'Dan', 'Edith', 'Frank'])\n",
    "b.groupby(len).compute()  # names grouped by length"
   ]
  },
  {
   "cell_type": "code",
   "execution_count": 20,
   "metadata": {
    "execution": {
     "iopub.execute_input": "2020-12-01T08:33:50.154769Z",
     "iopub.status.busy": "2020-12-01T08:33:50.148034Z",
     "iopub.status.idle": "2020-12-01T08:33:50.270578Z",
     "shell.execute_reply": "2020-12-01T08:33:50.269817Z"
    }
   },
   "outputs": [
    {
     "data": {
      "text/plain": [
       "[(0, [0, 2, 4, 6, 8]), (1, [1, 3, 5, 7, 9])]"
      ]
     },
     "execution_count": 1,
     "metadata": {},
     "output_type": "execute_result"
    }
   ],
   "source": [
    "b = db.from_sequence(list(range(10)))\n",
    "b.groupby(lambda x: x % 2).compute()"
   ]
  },
  {
   "cell_type": "code",
   "execution_count": 21,
   "metadata": {
    "execution": {
     "iopub.execute_input": "2020-12-01T08:33:50.279673Z",
     "iopub.status.busy": "2020-12-01T08:33:50.279285Z",
     "iopub.status.idle": "2020-12-01T08:33:50.389721Z",
     "shell.execute_reply": "2020-12-01T08:33:50.389260Z"
    }
   },
   "outputs": [
    {
     "data": {
      "text/plain": [
       "[(0, 8), (1, 9)]"
      ]
     },
     "execution_count": 1,
     "metadata": {},
     "output_type": "execute_result"
    }
   ],
   "source": [
    "b.groupby(lambda x: x % 2).starmap(lambda k, v: (k, max(v))).compute()"
   ]
  },
  {
   "cell_type": "markdown",
   "metadata": {},
   "source": [
    "### `foldby`"
   ]
  },
  {
   "cell_type": "markdown",
   "metadata": {},
   "source": [
    "Foldby can be quite odd at first.  It is similar to the following functions from other libraries:\n",
    "\n",
    "*  [`toolz.reduceby`](http://toolz.readthedocs.io/en/latest/streaming-analytics.html#streaming-split-apply-combine)\n",
    "*  [`pyspark.RDD.combineByKey`](http://abshinn.github.io/python/apache-spark/2014/10/11/using-combinebykey-in-apache-spark/)\n",
    "\n",
    "When using `foldby` you provide \n",
    "\n",
    "1.  A key function on which to group elements\n",
    "2.  A binary operator such as you would pass to `reduce` that you use to perform reduction per each group\n",
    "3.  A combine binary operator that can combine the results of two `reduce` calls on different parts of your dataset.\n",
    "\n",
    "Your reduction must be associative.  It will happen in parallel in each of the partitions of your dataset.  Then all of these intermediate results will be combined by the `combine` binary operator."
   ]
  },
  {
   "cell_type": "code",
   "execution_count": 22,
   "metadata": {
    "execution": {
     "iopub.execute_input": "2020-12-01T08:33:50.394734Z",
     "iopub.status.busy": "2020-12-01T08:33:50.393988Z",
     "iopub.status.idle": "2020-12-01T08:33:50.432671Z",
     "shell.execute_reply": "2020-12-01T08:33:50.432195Z"
    }
   },
   "outputs": [
    {
     "data": {
      "text/plain": [
       "[(0, 8), (1, 9)]"
      ]
     },
     "execution_count": 1,
     "metadata": {},
     "output_type": "execute_result"
    }
   ],
   "source": [
    "is_even = lambda x: x % 2\n",
    "b.foldby(is_even, binop=max, combine=max).compute()"
   ]
  },
  {
   "cell_type": "markdown",
   "metadata": {},
   "source": [
    "### Example with account data"
   ]
  },
  {
   "cell_type": "markdown",
   "metadata": {},
   "source": [
    "We find the number of people with the same name."
   ]
  },
  {
   "cell_type": "code",
   "execution_count": 23,
   "metadata": {
    "execution": {
     "iopub.execute_input": "2020-12-01T08:33:50.438665Z",
     "iopub.status.busy": "2020-12-01T08:33:50.438279Z",
     "iopub.status.idle": "2020-12-01T08:33:55.722779Z",
     "shell.execute_reply": "2020-12-01T08:33:55.722368Z"
    }
   },
   "outputs": [
    {
     "name": "stdout",
     "output_type": "stream",
     "text": [
      "[('Alice', 121), ('Alice', 132), ('Alice', 132), ('Alice', 165), ('Bob', 77), ('Bob', 84), ('Bob', 84), ('Bob', 105), ('Charlie', 128), ('Charlie', 141), ('Charlie', 141), ('Charlie', 175), ('Dan', 137), ('Dan', 145), ('Dan', 145), ('Dan', 177), ('Edith', 121), ('Edith', 128), ('Edith', 128), ('Edith', 163), ('Frank', 129), ('Frank', 140), ('Frank', 313), ('George', 96), ('George', 98), ('George', 104), ('George', 132), ('Hannah', 142), ('Hannah', 155), ('Hannah', 156), ('Hannah', 195), ('Ingrid', 110), ('Ingrid', 120), ('Ingrid', 120), ('Ingrid', 149), ('Jerry', 120), ('Jerry', 150), ('Jerry', 230), ('Kevin', 66), ('Kevin', 72), ('Kevin', 72), ('Kevin', 90), ('Laura', 121), ('Laura', 132), ('Laura', 132), ('Laura', 165), ('Michael', 162), ('Michael', 176), ('Michael', 179), ('Michael', 223), ('Norbert', 66), ('Norbert', 72), ('Norbert', 72), ('Norbert', 90), ('Oliver', 142), ('Oliver', 154), ('Oliver', 155), ('Oliver', 195), ('Patricia', 77), ('Patricia', 83), ('Patricia', 84), ('Patricia', 105), ('Quinn', 115), ('Quinn', 125), ('Quinn', 127), ('Quinn', 156), ('Ray', 42), ('Ray', 44), ('Ray', 45), ('Ray', 57), ('Sarah', 154), ('Sarah', 166), ('Sarah', 168), ('Sarah', 208), ('Tim', 94), ('Tim', 103), ('Tim', 104), ('Tim', 129), ('Ursula', 64), ('Ursula', 68), ('Ursula', 72), ('Ursula', 84), ('Victor', 88), ('Victor', 96), ('Victor', 96), ('Victor', 120), ('Wendy', 48), ('Wendy', 60), ('Wendy', 92), ('Xavier', 77), ('Xavier', 84), ('Xavier', 84), ('Xavier', 105), ('Yvonne', 117), ('Yvonne', 128), ('Yvonne', 129), ('Yvonne', 160), ('Zelda', 99), ('Zelda', 108), ('Zelda', 108), ('Zelda', 135)]\n",
      "CPU times: user 985 ms, sys: 69.3 ms, total: 1.05 s\n",
      "Wall time: 5.28 s\n"
     ]
    }
   ],
   "source": [
    "%%time\n",
    "# Warning, this one takes a while...\n",
    "result = js.groupby(lambda item: item['name']).starmap(lambda k, v: (k, len(v))).compute()\n",
    "print(sorted(result))"
   ]
  },
  {
   "cell_type": "code",
   "execution_count": 24,
   "metadata": {
    "execution": {
     "iopub.execute_input": "2020-12-01T08:33:55.726964Z",
     "iopub.status.busy": "2020-12-01T08:33:55.726509Z",
     "iopub.status.idle": "2020-12-01T08:33:56.119211Z",
     "shell.execute_reply": "2020-12-01T08:33:56.119641Z"
    }
   },
   "outputs": [
    {
     "name": "stdout",
     "output_type": "stream",
     "text": [
      "[('Alice', 550), ('Bob', 350), ('Charlie', 585), ('Dan', 604), ('Edith', 540), ('Frank', 582), ('George', 430), ('Hannah', 648), ('Ingrid', 499), ('Jerry', 500), ('Kevin', 300), ('Laura', 550), ('Michael', 740), ('Norbert', 300), ('Oliver', 646), ('Patricia', 349), ('Quinn', 523), ('Ray', 188), ('Sarah', 696), ('Tim', 430), ('Ursula', 288), ('Victor', 400), ('Wendy', 200), ('Xavier', 350), ('Yvonne', 534), ('Zelda', 450)]\n",
      "CPU times: user 99 ms, sys: 13.1 ms, total: 112 ms\n",
      "Wall time: 390 ms\n"
     ]
    }
   ],
   "source": [
    "%%time\n",
    "# This one is comparatively fast and produces the same result.\n",
    "from operator import add\n",
    "def incr(tot, _):\n",
    "    return tot+1\n",
    "\n",
    "result = js.foldby(key='name', \n",
    "                   binop=incr, \n",
    "                   initial=0, \n",
    "                   combine=add, \n",
    "                   combine_initial=0).compute()\n",
    "print(sorted(result))"
   ]
  },
  {
   "cell_type": "markdown",
   "metadata": {},
   "source": [
    "### Exercise: compute total amount per name"
   ]
  },
  {
   "cell_type": "markdown",
   "metadata": {},
   "source": [
    "We want to groupby (or foldby) the `name` key, then add up the all of the amounts for each name.\n",
    "\n",
    "Steps\n",
    "\n",
    "1.  Create a small function that, given a dictionary like \n",
    "\n",
    "        {'name': 'Alice', 'transactions': [{'amount': 1, 'id': 123}, {'amount': 2, 'id': 456}]}\n",
    "        \n",
    "    produces the sum of the amounts, e.g. `3`\n",
    "    \n",
    "2.  Slightly change the binary operator of the `foldby` example above so that the binary operator doesn't count the number of entries, but instead accumulates the sum of the amounts."
   ]
  },
  {
   "cell_type": "code",
   "execution_count": 25,
   "metadata": {
    "execution": {
     "iopub.execute_input": "2020-12-01T08:33:56.123046Z",
     "iopub.status.busy": "2020-12-01T08:33:56.122638Z",
     "iopub.status.idle": "2020-12-01T08:33:56.126026Z",
     "shell.execute_reply": "2020-12-01T08:33:56.125610Z"
    }
   },
   "outputs": [],
   "source": [
    "# Your code here..."
   ]
  },
  {
   "cell_type": "markdown",
   "metadata": {},
   "source": [
    "## DataFrames"
   ]
  },
  {
   "cell_type": "markdown",
   "metadata": {},
   "source": [
    "For the same reasons that Pandas is often faster than pure Python, `dask.dataframe` can be faster than `dask.bag`.  We will work more with DataFrames later, but from for the bag point of view, they are frequently the end-point of the \"messy\" part of data ingestion—once the data can be made into a data-frame, then complex split-apply-combine logic will become much more straight-forward and efficient.\n",
    "\n",
    "You can transform a bag with a simple tuple or flat dictionary structure into a `dask.dataframe` with the `to_dataframe` method."
   ]
  },
  {
   "cell_type": "code",
   "execution_count": 26,
   "metadata": {
    "execution": {
     "iopub.execute_input": "2020-12-01T08:33:56.128675Z",
     "iopub.status.busy": "2020-12-01T08:33:56.128279Z",
     "iopub.status.idle": "2020-12-01T08:33:56.679602Z",
     "shell.execute_reply": "2020-12-01T08:33:56.679231Z"
    }
   },
   "outputs": [
    {
     "data": {
      "text/html": [
       "<div>\n",
       "<style scoped>\n",
       "    .dataframe tbody tr th:only-of-type {\n",
       "        vertical-align: middle;\n",
       "    }\n",
       "\n",
       "    .dataframe tbody tr th {\n",
       "        vertical-align: top;\n",
       "    }\n",
       "\n",
       "    .dataframe thead th {\n",
       "        text-align: right;\n",
       "    }\n",
       "</style>\n",
       "<table border=\"1\" class=\"dataframe\">\n",
       "  <thead>\n",
       "    <tr style=\"text-align: right;\">\n",
       "      <th></th>\n",
       "      <th>id</th>\n",
       "      <th>name</th>\n",
       "      <th>transactions</th>\n",
       "    </tr>\n",
       "  </thead>\n",
       "  <tbody>\n",
       "    <tr>\n",
       "      <th>0</th>\n",
       "      <td>0</td>\n",
       "      <td>Ursula</td>\n",
       "      <td>[{'transaction-id': 292, 'amount': 571}, {'tra...</td>\n",
       "    </tr>\n",
       "    <tr>\n",
       "      <th>1</th>\n",
       "      <td>1</td>\n",
       "      <td>George</td>\n",
       "      <td>[{'transaction-id': 240, 'amount': 474}, {'tra...</td>\n",
       "    </tr>\n",
       "    <tr>\n",
       "      <th>2</th>\n",
       "      <td>2</td>\n",
       "      <td>Wendy</td>\n",
       "      <td>[{'transaction-id': 1425, 'amount': 1518}, {'t...</td>\n",
       "    </tr>\n",
       "    <tr>\n",
       "      <th>3</th>\n",
       "      <td>3</td>\n",
       "      <td>Jerry</td>\n",
       "      <td>[{'transaction-id': 371, 'amount': 1567}, {'tr...</td>\n",
       "    </tr>\n",
       "    <tr>\n",
       "      <th>4</th>\n",
       "      <td>4</td>\n",
       "      <td>Yvonne</td>\n",
       "      <td>[{'transaction-id': 63, 'amount': 1568}, {'tra...</td>\n",
       "    </tr>\n",
       "  </tbody>\n",
       "</table>\n",
       "</div>"
      ],
      "text/plain": [
       "   id    name                                       transactions\n",
       "0   0  Ursula  [{'transaction-id': 292, 'amount': 571}, {'tra...\n",
       "1   1  George  [{'transaction-id': 240, 'amount': 474}, {'tra...\n",
       "2   2   Wendy  [{'transaction-id': 1425, 'amount': 1518}, {'t...\n",
       "3   3   Jerry  [{'transaction-id': 371, 'amount': 1567}, {'tr...\n",
       "4   4  Yvonne  [{'transaction-id': 63, 'amount': 1568}, {'tra..."
      ]
     },
     "execution_count": 1,
     "metadata": {},
     "output_type": "execute_result"
    }
   ],
   "source": [
    "df1 = js.to_dataframe()\n",
    "df1.head()"
   ]
  },
  {
   "cell_type": "markdown",
   "metadata": {},
   "source": [
    "This now looks like a well-defined DataFrame, and we can apply Pandas-like computations to it efficiently."
   ]
  },
  {
   "cell_type": "markdown",
   "metadata": {},
   "source": [
    "Using a Dask DataFrame, how long does it take to do our prior computation of numbers of people with the same name?  It turns out that `dask.dataframe.groupby()` beats `dask.bag.groupby()` more than an order of magnitude; but it still cannot match `dask.bag.foldby()` for this case."
   ]
  },
  {
   "cell_type": "code",
   "execution_count": 27,
   "metadata": {
    "execution": {
     "iopub.execute_input": "2020-12-01T08:33:56.687833Z",
     "iopub.status.busy": "2020-12-01T08:33:56.685837Z",
     "iopub.status.idle": "2020-12-01T08:33:57.756000Z",
     "shell.execute_reply": "2020-12-01T08:33:57.755680Z"
    }
   },
   "outputs": [
    {
     "name": "stdout",
     "output_type": "stream",
     "text": [
      "CPU times: user 99.4 ms, sys: 28.2 ms, total: 128 ms\n",
      "Wall time: 1.07 s\n"
     ]
    },
    {
     "data": {
      "text/plain": [
       "name\n",
       "Alice      550\n",
       "Bob        350\n",
       "Charlie    585\n",
       "Dan        604\n",
       "Edith      540\n",
       "Name: id, dtype: int64"
      ]
     },
     "execution_count": 1,
     "metadata": {},
     "output_type": "execute_result"
    }
   ],
   "source": [
    "%time df1.groupby('name').id.count().compute().head()"
   ]
  },
  {
   "cell_type": "markdown",
   "metadata": {},
   "source": [
    "### Denormalization"
   ]
  },
  {
   "cell_type": "markdown",
   "metadata": {},
   "source": [
    "This DataFrame format is less-than-optimal because the `transactions` column is filled with nested data so Pandas has to revert to `object` dtype, which is quite slow in Pandas.  Ideally we want to transform to a dataframe only after we have flattened our data so that each record is a single `int`, `string`, `float`, etc.."
   ]
  },
  {
   "cell_type": "code",
   "execution_count": 28,
   "metadata": {
    "execution": {
     "iopub.execute_input": "2020-12-01T08:33:57.762696Z",
     "iopub.status.busy": "2020-12-01T08:33:57.760539Z",
     "iopub.status.idle": "2020-12-01T08:33:57.775814Z",
     "shell.execute_reply": "2020-12-01T08:33:57.775149Z"
    }
   },
   "outputs": [
    {
     "data": {
      "text/plain": [
       "({'id': 0, 'name': 'Ursula', 'amount': 571, 'transaction-id': 292},\n",
       " {'id': 0, 'name': 'Ursula', 'amount': 611, 'transaction-id': 299},\n",
       " {'id': 0, 'name': 'Ursula', 'amount': 635, 'transaction-id': 428})"
      ]
     },
     "execution_count": 1,
     "metadata": {},
     "output_type": "execute_result"
    }
   ],
   "source": [
    "def denormalize(record):\n",
    "    # returns a list for every nested item, each transaction of each person\n",
    "    return [{'id': record['id'], \n",
    "             'name': record['name'], \n",
    "             'amount': transaction['amount'], \n",
    "             'transaction-id': transaction['transaction-id']}\n",
    "            for transaction in record['transactions']]\n",
    "\n",
    "transactions = js.map(denormalize).flatten()\n",
    "transactions.take(3)"
   ]
  },
  {
   "cell_type": "code",
   "execution_count": 29,
   "metadata": {
    "execution": {
     "iopub.execute_input": "2020-12-01T08:33:57.779455Z",
     "iopub.status.busy": "2020-12-01T08:33:57.779066Z",
     "iopub.status.idle": "2020-12-01T08:33:57.855492Z",
     "shell.execute_reply": "2020-12-01T08:33:57.854612Z"
    }
   },
   "outputs": [
    {
     "data": {
      "text/html": [
       "<div>\n",
       "<style scoped>\n",
       "    .dataframe tbody tr th:only-of-type {\n",
       "        vertical-align: middle;\n",
       "    }\n",
       "\n",
       "    .dataframe tbody tr th {\n",
       "        vertical-align: top;\n",
       "    }\n",
       "\n",
       "    .dataframe thead th {\n",
       "        text-align: right;\n",
       "    }\n",
       "</style>\n",
       "<table border=\"1\" class=\"dataframe\">\n",
       "  <thead>\n",
       "    <tr style=\"text-align: right;\">\n",
       "      <th></th>\n",
       "      <th>id</th>\n",
       "      <th>name</th>\n",
       "      <th>amount</th>\n",
       "      <th>transaction-id</th>\n",
       "    </tr>\n",
       "  </thead>\n",
       "  <tbody>\n",
       "    <tr>\n",
       "      <th>0</th>\n",
       "      <td>0</td>\n",
       "      <td>Ursula</td>\n",
       "      <td>571</td>\n",
       "      <td>292</td>\n",
       "    </tr>\n",
       "    <tr>\n",
       "      <th>1</th>\n",
       "      <td>0</td>\n",
       "      <td>Ursula</td>\n",
       "      <td>611</td>\n",
       "      <td>299</td>\n",
       "    </tr>\n",
       "    <tr>\n",
       "      <th>2</th>\n",
       "      <td>0</td>\n",
       "      <td>Ursula</td>\n",
       "      <td>635</td>\n",
       "      <td>428</td>\n",
       "    </tr>\n",
       "    <tr>\n",
       "      <th>3</th>\n",
       "      <td>0</td>\n",
       "      <td>Ursula</td>\n",
       "      <td>683</td>\n",
       "      <td>1025</td>\n",
       "    </tr>\n",
       "    <tr>\n",
       "      <th>4</th>\n",
       "      <td>0</td>\n",
       "      <td>Ursula</td>\n",
       "      <td>565</td>\n",
       "      <td>1028</td>\n",
       "    </tr>\n",
       "  </tbody>\n",
       "</table>\n",
       "</div>"
      ],
      "text/plain": [
       "   id    name  amount  transaction-id\n",
       "0   0  Ursula     571             292\n",
       "1   0  Ursula     611             299\n",
       "2   0  Ursula     635             428\n",
       "3   0  Ursula     683            1025\n",
       "4   0  Ursula     565            1028"
      ]
     },
     "execution_count": 1,
     "metadata": {},
     "output_type": "execute_result"
    }
   ],
   "source": [
    "df = transactions.to_dataframe()\n",
    "df.head()"
   ]
  },
  {
   "cell_type": "code",
   "execution_count": 30,
   "metadata": {
    "execution": {
     "iopub.execute_input": "2020-12-01T08:33:57.868004Z",
     "iopub.status.busy": "2020-12-01T08:33:57.867606Z",
     "iopub.status.idle": "2020-12-01T08:33:58.778861Z",
     "shell.execute_reply": "2020-12-01T08:33:58.778322Z"
    }
   },
   "outputs": [
    {
     "name": "stdout",
     "output_type": "stream",
     "text": [
      "CPU times: user 126 ms, sys: 11.9 ms, total: 138 ms\n",
      "Wall time: 912 ms\n"
     ]
    },
    {
     "data": {
      "text/plain": [
       "name\n",
       "Alice       18237\n",
       "Bob         13772\n",
       "Charlie     21354\n",
       "Dan         23568\n",
       "Edith       14396\n",
       "Frank       30495\n",
       "George      26008\n",
       "Hannah      24155\n",
       "Ingrid      20274\n",
       "Jerry       21457\n",
       "Kevin        8136\n",
       "Laura       32090\n",
       "Michael     30147\n",
       "Norbert      8250\n",
       "Oliver      33368\n",
       "Patricia    14464\n",
       "Quinn       26875\n",
       "Ray          3498\n",
       "Sarah       26316\n",
       "Tim         17098\n",
       "Ursula       5138\n",
       "Victor      19044\n",
       "Wendy        5474\n",
       "Xavier      14996\n",
       "Yvonne      20843\n",
       "Zelda       20547\n",
       "Name: transaction-id, dtype: int64"
      ]
     },
     "execution_count": 1,
     "metadata": {},
     "output_type": "execute_result"
    }
   ],
   "source": [
    "%%time\n",
    "# number of transactions per name\n",
    "# note that the time here includes the data load and ingestion\n",
    "df.groupby('name')['transaction-id'].count().compute()"
   ]
  },
  {
   "cell_type": "markdown",
   "metadata": {},
   "source": [
    "## Limitations"
   ]
  },
  {
   "cell_type": "markdown",
   "metadata": {},
   "source": [
    "Bags provide very general computation (any Python function.)  This generality\n",
    "comes at cost.  Bags have the following known limitations\n",
    "\n",
    "1.  Bag operations tend to be slower than array/dataframe computations in the\n",
    "    same way that Python tends to be slower than NumPy/Pandas\n",
    "2.  ``Bag.groupby`` is slow.  You should try to use ``Bag.foldby`` if possible.\n",
    "    Using ``Bag.foldby`` requires more thought. Even better, consider creating\n",
    "    a normalised dataframe."
   ]
  },
  {
   "cell_type": "markdown",
   "metadata": {},
   "source": [
    "## Learn More\n",
    "\n",
    "* [Bag documentation](https://docs.dask.org/en/latest/bag.html)\n",
    "* [Bag screencast](https://youtu.be/-qIiJ1XtSv0)\n",
    "* [Bag API](https://docs.dask.org/en/latest/bag-api.html)\n",
    "* [Bag examples](https://examples.dask.org/bag.html)"
   ]
  },
  {
   "cell_type": "markdown",
   "metadata": {},
   "source": [
    "## Shutdown"
   ]
  },
  {
   "cell_type": "code",
   "execution_count": 31,
   "metadata": {
    "execution": {
     "iopub.execute_input": "2020-12-01T08:33:58.782856Z",
     "iopub.status.busy": "2020-12-01T08:33:58.782418Z",
     "iopub.status.idle": "2020-12-01T08:34:00.160267Z",
     "shell.execute_reply": "2020-12-01T08:34:00.160756Z"
    }
   },
   "outputs": [],
   "source": [
    "client.shutdown()"
   ]
  }
 ],
 "metadata": {
  "anaconda-cloud": {},
  "kernelspec": {
   "display_name": "Python 3",
   "language": "python",
   "name": "python3"
  },
  "language_info": {
   "codemirror_mode": {
    "name": "ipython",
    "version": 3
   },
   "file_extension": ".py",
   "mimetype": "text/x-python",
   "name": "python",
   "nbconvert_exporter": "python",
   "pygments_lexer": "ipython3",
   "version": "3.8.6"
  }
 },
 "nbformat": 4,
 "nbformat_minor": 4
}
